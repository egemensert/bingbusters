{
 "cells": [
  {
   "cell_type": "code",
   "execution_count": 1,
   "metadata": {},
   "outputs": [
    {
     "name": "stderr",
     "output_type": "stream",
     "text": [
      "/var/folders/6v/2367wcvj67n2ys3y5v13whbr0000gn/T/ipykernel_34438/3959193017.py:6: UserWarning: \n",
      "The dash_core_components package is deprecated. Please replace\n",
      "`import dash_core_components as dcc` with `from dash import dcc`\n",
      "  import dash_core_components as dcc\n",
      "/var/folders/6v/2367wcvj67n2ys3y5v13whbr0000gn/T/ipykernel_34438/3959193017.py:7: UserWarning: \n",
      "The dash_html_components package is deprecated. Please replace\n",
      "`import dash_html_components as html` with `from dash import html`\n",
      "  import dash_html_components as html\n",
      "/usr/local/lib/python3.9/site-packages/tqdm/auto.py:21: TqdmWarning: IProgress not found. Please update jupyter and ipywidgets. See https://ipywidgets.readthedocs.io/en/stable/user_install.html\n",
      "  from .autonotebook import tqdm as notebook_tqdm\n"
     ]
    }
   ],
   "source": [
    "from dash import jupyter_dash\n",
    "\n",
    "jupyter_dash.default_mode=\"external\"\n",
    "\n",
    "import dash\n",
    "import dash_core_components as dcc\n",
    "import dash_html_components as html\n",
    "from dash.dependencies import Input, Output\n",
    "import matplotlib.pyplot as plt\n",
    "\n",
    "import pandas as pd\n",
    "import pyterrier as pt\n",
    "import re\n"
   ]
  },
  {
   "cell_type": "code",
   "execution_count": 2,
   "metadata": {},
   "outputs": [
    {
     "name": "stderr",
     "output_type": "stream",
     "text": [
      "PyTerrier 0.10.1 has loaded Terrier 5.9 (built by craigm on 2024-05-02 17:40) and terrier-helper 0.0.8\n",
      "\n",
      "No etc/terrier.properties, using terrier.default.properties for bootstrap configuration.\n"
     ]
    }
   ],
   "source": [
    "if not pt.started():\n",
    "    pt.init()"
   ]
  },
  {
   "cell_type": "code",
   "execution_count": 3,
   "metadata": {},
   "outputs": [
    {
     "name": "stderr",
     "output_type": "stream",
     "text": [
      "cord19/trec-covid documents: 100%|██████████| 192509/192509 [00:01<00:00, 179647.33it/s]\n"
     ]
    }
   ],
   "source": [
    "dataset = pt.datasets.get_dataset('irds:cord19/trec-covid')\n",
    "# (Optional) Pre-process the dataset if feasible\n",
    "doc_info_dict = {}\n",
    "for doc in dataset.get_corpus_iter():\n",
    "  doc_info_dict[doc['docno']] = {\"title\": doc.get(\"title\", \"No Title Available\"), \"abstract\": doc.get(\"abstract\", \"\")}\n"
   ]
  },
  {
   "cell_type": "code",
   "execution_count": 6,
   "metadata": {},
   "outputs": [],
   "source": [
    "# !rm -rf ./cord19-index"
   ]
  },
  {
   "cell_type": "code",
   "execution_count": 4,
   "metadata": {},
   "outputs": [
    {
     "name": "stderr",
     "output_type": "stream",
     "text": [
      "cord19/trec-covid documents:   1%|          | 1941/192509 [00:03<01:55, 1649.76it/s]"
     ]
    },
    {
     "name": "stdout",
     "output_type": "stream",
     "text": [
      "11:01:20.828 [ForkJoinPool-1-worker-3] WARN org.terrier.structures.indexing.Indexer - Adding an empty document to the index (8is9x9sc) - further warnings are suppressed\n"
     ]
    },
    {
     "name": "stderr",
     "output_type": "stream",
     "text": [
      "cord19/trec-covid documents: 100%|██████████| 192509/192509 [00:34<00:00, 5553.30it/s]\n"
     ]
    },
    {
     "name": "stdout",
     "output_type": "stream",
     "text": [
      "11:01:52.439 [ForkJoinPool-1-worker-3] ERROR org.terrier.structures.indexing.Indexer - Could not finish MetaIndexBuilder: \n",
      "java.io.IOException: Key 8lqzfj2e is not unique: 37597,11755\n",
      "For MetaIndex, to suppress, set metaindex.compressed.reverse.allow.duplicates=true\n",
      "\tat org.terrier.structures.collections.FSOrderedMapFile$MultiFSOMapWriter.mergeTwo(FSOrderedMapFile.java:1374)\n",
      "\tat org.terrier.structures.collections.FSOrderedMapFile$MultiFSOMapWriter.close(FSOrderedMapFile.java:1308)\n",
      "\tat org.terrier.structures.indexing.BaseMetaIndexBuilder.close(BaseMetaIndexBuilder.java:321)\n",
      "\tat org.terrier.structures.indexing.classical.BasicIndexer.indexDocuments(BasicIndexer.java:270)\n",
      "\tat org.terrier.structures.indexing.classical.BasicIndexer.createDirectIndex(BasicIndexer.java:388)\n",
      "\tat org.terrier.structures.indexing.Indexer.index(Indexer.java:377)\n",
      "\tat org.terrier.python.ParallelIndexer$3.apply(ParallelIndexer.java:131)\n",
      "\tat org.terrier.python.ParallelIndexer$3.apply(ParallelIndexer.java:120)\n",
      "\tat java.base/java.util.stream.ReferencePipeline$3$1.accept(ReferencePipeline.java:195)\n",
      "\tat java.base/java.util.Spliterators$ArraySpliterator.forEachRemaining(Spliterators.java:948)\n",
      "\tat java.base/java.util.stream.AbstractPipeline.copyInto(AbstractPipeline.java:484)\n",
      "\tat java.base/java.util.stream.AbstractPipeline.wrapAndCopyInto(AbstractPipeline.java:474)\n",
      "\tat java.base/java.util.stream.ReduceOps$ReduceTask.doLeaf(ReduceOps.java:952)\n",
      "\tat java.base/java.util.stream.ReduceOps$ReduceTask.doLeaf(ReduceOps.java:926)\n",
      "\tat java.base/java.util.stream.AbstractTask.compute(AbstractTask.java:327)\n",
      "\tat java.base/java.util.concurrent.CountedCompleter.exec(CountedCompleter.java:746)\n",
      "\tat java.base/java.util.concurrent.ForkJoinTask.doExec(ForkJoinTask.java:290)\n",
      "\tat java.base/java.util.concurrent.ForkJoinTask.doInvoke(ForkJoinTask.java:408)\n",
      "\tat java.base/java.util.concurrent.ForkJoinTask.invoke(ForkJoinTask.java:736)\n",
      "\tat java.base/java.util.stream.ReduceOps$ReduceOp.evaluateParallel(ReduceOps.java:919)\n",
      "\tat java.base/java.util.stream.AbstractPipeline.evaluate(AbstractPipeline.java:233)\n",
      "\tat java.base/java.util.stream.ReferencePipeline.reduce(ReferencePipeline.java:558)\n",
      "\tat org.terrier.python.ParallelIndexer$4.call(ParallelIndexer.java:140)\n",
      "\tat org.terrier.python.ParallelIndexer$4.call(ParallelIndexer.java:137)\n",
      "\tat java.base/java.util.concurrent.ForkJoinTask$AdaptedCallable.exec(ForkJoinTask.java:1453)\n",
      "\tat java.base/java.util.concurrent.ForkJoinTask.doExec(ForkJoinTask.java:290)\n",
      "\tat java.base/java.util.concurrent.ForkJoinPool$WorkQueue.topLevelExec(ForkJoinPool.java:1016)\n",
      "\tat java.base/java.util.concurrent.ForkJoinPool.scan(ForkJoinPool.java:1665)\n",
      "\tat java.base/java.util.concurrent.ForkJoinPool.runWorker(ForkJoinPool.java:1598)\n",
      "\tat java.base/java.util.concurrent.ForkJoinWorkerThread.run(ForkJoinWorkerThread.java:183)\n",
      "11:01:56.442 [ForkJoinPool-1-worker-3] WARN org.terrier.structures.indexing.Indexer - Indexed 60 empty documents\n"
     ]
    }
   ],
   "source": [
    "indexer = pt.index.IterDictIndexer('./cord19-index') # initialize an indexer object\n",
    "indexref = indexer.index(dataset.get_corpus_iter(), fields=('title', 'abstract'))\n",
    "index = pt.IndexFactory.of(indexref)\n",
    "BM25_br = pt.BatchRetrieve(index, wmodel=\"BM25\")"
   ]
  },
  {
   "cell_type": "code",
   "execution_count": 8,
   "metadata": {},
   "outputs": [],
   "source": [
    "# !rm -rf ./cord19-index_v2"
   ]
  },
  {
   "cell_type": "code",
   "execution_count": 5,
   "metadata": {},
   "outputs": [
    {
     "name": "stderr",
     "output_type": "stream",
     "text": [
      "cord19/trec-covid documents:   7%|▋         | 14416/192509 [00:02<00:26, 6652.53it/s]"
     ]
    },
    {
     "name": "stdout",
     "output_type": "stream",
     "text": [
      "11:01:59.280 [ForkJoinPool-2-worker-3] WARN org.terrier.structures.indexing.Indexer - Adding an empty document to the index (fegzawne) - further warnings are suppressed\n"
     ]
    },
    {
     "name": "stderr",
     "output_type": "stream",
     "text": [
      "cord19/trec-covid documents: 100%|██████████| 192509/192509 [00:32<00:00, 5874.03it/s]"
     ]
    },
    {
     "name": "stdout",
     "output_type": "stream",
     "text": [
      "11:02:29.320 [ForkJoinPool-2-worker-3] ERROR org.terrier.structures.indexing.Indexer - Could not finish MetaIndexBuilder: \n",
      "java.io.IOException: Key 8lqzfj2e is not unique: 37597,11755\n",
      "For MetaIndex, to suppress, set metaindex.compressed.reverse.allow.duplicates=true\n",
      "\tat org.terrier.structures.collections.FSOrderedMapFile$MultiFSOMapWriter.mergeTwo(FSOrderedMapFile.java:1374)\n",
      "\tat org.terrier.structures.collections.FSOrderedMapFile$MultiFSOMapWriter.close(FSOrderedMapFile.java:1308)\n",
      "\tat org.terrier.structures.indexing.BaseMetaIndexBuilder.close(BaseMetaIndexBuilder.java:321)\n",
      "\tat org.terrier.structures.indexing.classical.BasicIndexer.indexDocuments(BasicIndexer.java:270)\n",
      "\tat org.terrier.structures.indexing.classical.BasicIndexer.createDirectIndex(BasicIndexer.java:388)\n",
      "\tat org.terrier.structures.indexing.Indexer.index(Indexer.java:377)\n",
      "\tat org.terrier.python.ParallelIndexer$3.apply(ParallelIndexer.java:131)\n",
      "\tat org.terrier.python.ParallelIndexer$3.apply(ParallelIndexer.java:120)\n",
      "\tat java.base/java.util.stream.ReferencePipeline$3$1.accept(ReferencePipeline.java:195)\n",
      "\tat java.base/java.util.Spliterators$ArraySpliterator.forEachRemaining(Spliterators.java:948)\n",
      "\tat java.base/java.util.stream.AbstractPipeline.copyInto(AbstractPipeline.java:484)\n",
      "\tat java.base/java.util.stream.AbstractPipeline.wrapAndCopyInto(AbstractPipeline.java:474)\n",
      "\tat java.base/java.util.stream.ReduceOps$ReduceTask.doLeaf(ReduceOps.java:952)\n",
      "\tat java.base/java.util.stream.ReduceOps$ReduceTask.doLeaf(ReduceOps.java:926)\n",
      "\tat java.base/java.util.stream.AbstractTask.compute(AbstractTask.java:327)\n",
      "\tat java.base/java.util.concurrent.CountedCompleter.exec(CountedCompleter.java:746)\n",
      "\tat java.base/java.util.concurrent.ForkJoinTask.doExec(ForkJoinTask.java:290)\n",
      "\tat java.base/java.util.concurrent.ForkJoinTask.doInvoke(ForkJoinTask.java:408)\n",
      "\tat java.base/java.util.concurrent.ForkJoinTask.invoke(ForkJoinTask.java:736)\n",
      "\tat java.base/java.util.stream.ReduceOps$ReduceOp.evaluateParallel(ReduceOps.java:919)\n",
      "\tat java.base/java.util.stream.AbstractPipeline.evaluate(AbstractPipeline.java:233)\n",
      "\tat java.base/java.util.stream.ReferencePipeline.reduce(ReferencePipeline.java:558)\n",
      "\tat org.terrier.python.ParallelIndexer$4.call(ParallelIndexer.java:140)\n",
      "\tat org.terrier.python.ParallelIndexer$4.call(ParallelIndexer.java:137)\n",
      "\tat java.base/java.util.concurrent.ForkJoinTask$AdaptedCallable.exec(ForkJoinTask.java:1453)\n",
      "\tat java.base/java.util.concurrent.ForkJoinTask.doExec(ForkJoinTask.java:290)\n",
      "\tat java.base/java.util.concurrent.ForkJoinPool$WorkQueue.topLevelExec(ForkJoinPool.java:1016)\n",
      "\tat java.base/java.util.concurrent.ForkJoinPool.scan(ForkJoinPool.java:1665)\n",
      "\tat java.base/java.util.concurrent.ForkJoinPool.runWorker(ForkJoinPool.java:1598)\n",
      "\tat java.base/java.util.concurrent.ForkJoinWorkerThread.run(ForkJoinWorkerThread.java:183)\n"
     ]
    },
    {
     "name": "stderr",
     "output_type": "stream",
     "text": [
      "\n"
     ]
    },
    {
     "name": "stdout",
     "output_type": "stream",
     "text": [
      "11:02:33.816 [ForkJoinPool-2-worker-3] WARN org.terrier.structures.indexing.Indexer - Indexed 56 empty documents\n"
     ]
    }
   ],
   "source": [
    "indexer_v2 = pt.index.IterDictIndexer('./cord19-index_v2',stemmer= None, stopwords = None) # initialize an indexer object\n",
    "indexref_v2 = indexer_v2.index(dataset.get_corpus_iter(), fields=('title', 'abstract'))\n",
    "index_v2 = pt.IndexFactory.of(indexref_v2)\n",
    "BM25_br_vanilla = pt.BatchRetrieve(index_v2, wmodel=\"BM25\")"
   ]
  },
  {
   "cell_type": "code",
   "execution_count": 6,
   "metadata": {},
   "outputs": [],
   "source": [
    "from deep_model_utils import DeepModel\n",
    "\n",
    "model_dir = 'ceng596'\n",
    "model_hub = {}\n",
    "for model_name in ['all-MiniLM-L6-v2', 'all-MiniLM-L12-v2', 'all-distilroberta-v1']:\n",
    "    m = DeepModel(model_path=f'{model_dir}/{model_name}', embeddings_path=f'{model_dir}/{model_name}.npy', documents_path=f'{model_dir}/documents.json')\n",
    "    model_hub[model_name] = m"
   ]
  },
  {
   "cell_type": "code",
   "execution_count": 7,
   "metadata": {},
   "outputs": [
    {
     "data": {
      "text/plain": [
       "['ovxmy1as',\n",
       " 'm2k6usaz',\n",
       " '2onwu92a',\n",
       " 'tq0dzwy1',\n",
       " 'w86qc3fq',\n",
       " '9tybviyk',\n",
       " 'tycggzr3',\n",
       " 'zp4uy1v7',\n",
       " 'gvfooevu',\n",
       " 'b2d7t7ge']"
      ]
     },
     "execution_count": 7,
     "metadata": {},
     "output_type": "execute_result"
    }
   ],
   "source": [
    "m.retrieve_top_documents('covid', 10)"
   ]
  },
  {
   "cell_type": "code",
   "execution_count": 8,
   "metadata": {},
   "outputs": [
    {
     "name": "stdout",
     "output_type": "stream",
     "text": [
      "Dash app running on http://127.0.0.1:8050/\n"
     ]
    },
    {
     "name": "stdout",
     "output_type": "stream",
     "text": [
      "11:03:02.250 [Thread-2] WARN org.terrier.structures.FSADocumentIndex - This index has fields, but FSADocumentIndex is used (which stores fields lengths on disk); If using field-based models such as BM25F, change to index.document.class in the index  properties file to FSAFieldDocumentIndex or FSADocumentIndexInMemFields to support efficient retrieval. If you don't use (e.g.) BM25F, this warning can be ignored\n",
      "11:03:03.696 [Thread-4] WARN org.terrier.structures.FSADocumentIndex - This index has fields, but FSADocumentIndex is used (which stores fields lengths on disk); If using field-based models such as BM25F, change to index.document.class in the index  properties file to FSAFieldDocumentIndex or FSADocumentIndexInMemFields to support efficient retrieval. If you don't use (e.g.) BM25F, this warning can be ignored\n"
     ]
    }
   ],
   "source": [
    "\n",
    "bo1 = pt.rewrite.Bo1QueryExpansion(index)\n",
    "\n",
    "# Create the pipeline for query expansion and retrieval\n",
    "pipelineQE = BM25_br >> bo1 >> BM25_br\n",
    "\n",
    "# Define the Dash application\n",
    "app = dash.Dash(__name__)\n",
    "app.layout = html.Div(\n",
    "    style={\"text-align\": \"center\", \"font-family\": \"Arial, sans-serif\"},\n",
    "    children=[\n",
    "        html.H1(\"BingBuster's Search Engine\", style={\"margin-bottom\": \"20px\", \"color\": \"#333\"}),\n",
    "        html.Div(\n",
    "            style={\"margin-bottom\": \"20px\"},\n",
    "            children=[\n",
    "                html.Label(\"Enter your keyword:  \", style={\"font-weight\": \"bold\", \"font-size\": \"16px\"}),\n",
    "                dcc.Input(id=\"keyword-input\", type=\"text\", value=\"\", style={\"width\": \"50%\", \"padding\": \"10px\", \"font-size\": \"16px\", \"border-radius\": \"10px\"}),\n",
    "                html.Label(\"Results per page:\", style={\"font-size\": \"14px\", \"margin-left\": \"20px\", \"margin-right\": \"10px\"}),\n",
    "                dcc.Input(id=\"result-limit-input\", type=\"number\", value=10, min=1, max=50, style={\"width\": \"60px\", \"padding\": \"5px\", \"font-size\": \"14px\"}),\n",
    "            ],\n",
    "        ),\n",
    "        html.Div(\n",
    "            children=[\n",
    "                html.Label(\"Retrieval Model:\", style={\"font-size\": \"14px\", \"margin-right\": \"10px\"}),\n",
    "                dcc.RadioItems(\n",
    "                    id=\"model-choice\",\n",
    "                    options=[\n",
    "                        {\"label\": \"BM25_br\", \"value\": \"BM25_br\"},\n",
    "                        {\"label\": \"BM25_br_vanilla\", \"value\": \"BM25_br_vanilla\"},\n",
    "                        {\"label\": \"BM25_br_QE\", \"value\": \"BM25_br_QE\"},\n",
    "                        *[{\"label\": f'Vector similarity ({k})', \"value\": k} for k in model_hub.keys()]\n",
    "                    ],\n",
    "                    value=\"BM25_br\",  # Default selection\n",
    "                    labelStyle={\"display\": \"inline-block\", \"margin-right\": \"10px\", \"font-size\": \"14px\"},\n",
    "                ),\n",
    "            ],\n",
    "            style={\"margin-bottom\": \"20px\"},\n",
    "        ),\n",
    "        html.Div(\n",
    "            children=[\n",
    "                html.Label(\"Show Abstracts:\", style={\"font-size\": \"14px\", \"margin-left\": \"20px\", \"margin-right\": \"10px\"}),\n",
    "                dcc.Checklist(\n",
    "                    id=\"show-abstracts\",\n",
    "                    options=[{\"label\": \" \", \"value\": \"show\"}],\n",
    "                    value=[],\n",
    "                    style={\"display\": \"inline-block\", \"margin-right\": \"10px\", \"font-size\": \"14px\"},\n",
    "                ),\n",
    "            ],\n",
    "            style={\"margin-bottom\": \"20px\"},\n",
    "        ),\n",
    "        html.Button(\n",
    "            id=\"search-button\",\n",
    "            children=\"Search\",\n",
    "            n_clicks=0,\n",
    "            style={\n",
    "                \"background-color\": \"#4CAF50\",  # Green color\n",
    "                \"color\": \"white\",\n",
    "                \"border\": \"none\",  # Remove border\n",
    "                \"padding\": \"10px 20px\",\n",
    "                \"font-size\": \"16px\",\n",
    "                \"cursor\": \"pointer\",\n",
    "                \"border-radius\": \"5px\",  # Rounded corners\n",
    "            },\n",
    "        ),\n",
    "        html.Div(id=\"expanded-query\", children=[], style={\"text-align\": \"left\", \"margin-top\": \"20px\", \"font-size\": \"16px\"}),\n",
    "        html.Div(id=\"search-results\", children=[], style={\"text-align\": \"left\", \"margin-top\": \"20px\", \"font-size\": \"16px\"}),\n",
    "    ],\n",
    ")\n",
    "\n",
    "# Callback with error handling and informative messages\n",
    "@app.callback(\n",
    "    [Output(component_id=\"search-results\", component_property=\"children\"),\n",
    "     Output(component_id=\"expanded-query\", component_property=\"children\")],\n",
    "    [Input(component_id=\"search-button\", component_property=\"n_clicks\")],\n",
    "    [\n",
    "        Input(component_id=\"keyword-input\", component_property=\"value\"),\n",
    "        Input(component_id=\"result-limit-input\", component_property=\"value\"),\n",
    "        Input(component_id=\"model-choice\", component_property=\"value\"),\n",
    "        Input(component_id=\"show-abstracts\", component_property=\"value\"),\n",
    "    ],\n",
    ")\n",
    "def update_results(n_clicks, keyword, result_limit, selected_model, show_abstracts):\n",
    "    if n_clicks == 0 or not keyword:\n",
    "        return [], \"\"  # Handle initial state and empty input\n",
    "\n",
    "    expanded_query = \"\"\n",
    "    # Retrieve documents based on selected model\n",
    "    try:\n",
    "        if selected_model == \"BM25_br\":\n",
    "            top_docs = retrieve_top_documents(keyword, BM25_br, result_limit)\n",
    "        elif selected_model == \"BM25_br_vanilla\":\n",
    "            top_docs = retrieve_top_documents(keyword, BM25_br_vanilla, result_limit)\n",
    "        elif selected_model == \"BM25_br_QE\":\n",
    "            # Perform query expansion\n",
    "            display_results = (BM25_br >> bo1).search(keyword)\n",
    "            expanded_query = display_results['query'].iloc[0]\n",
    "            # Remove weights and applypipeline\n",
    "            expanded_query = re.sub(r'\\^\\d+\\.\\d+', '', expanded_query)\n",
    "            expanded_query = re.sub(r'applypipeline:off ', '', expanded_query)\n",
    "            top_docs = retrieve_top_documents(expanded_query, BM25_br, result_limit)\n",
    "        elif selected_model in model_hub:\n",
    "            top_docs = model_hub[selected_model].retrieve_top_documents(keyword, result_limit)            \n",
    "\n",
    "        if not top_docs:\n",
    "            return \"No relevant documents found.\", \"\"\n",
    "\n",
    "        # Format results as HTML list\n",
    "        results_list = html.Ol(\n",
    "            children=[\n",
    "                html.Li(\n",
    "                    children=[\n",
    "                        html.Span(children=f\"{doc_info_dict[doc]['title']}\"),\n",
    "                        html.Ul(\n",
    "                            children=[\n",
    "                                html.Li(children=f\"{doc_info_dict[doc]['abstract']}\")\n",
    "                            ],\n",
    "                            style={\"margin-left\": \"20px\", \"display\": \"block\" if \"show\" in show_abstracts else \"none\"}\n",
    "                        )\n",
    "                    ],\n",
    "                    style={\"margin-bottom\": \"5px\"}\n",
    "                )\n",
    "                for doc in top_docs[:result_limit]\n",
    "            ]\n",
    "        )\n",
    "        return results_list, f\"Expanded Query: {expanded_query}\" if expanded_query else \"\"\n",
    "    except Exception as e:\n",
    "        return f\"Error: {str(e)}\", \"\"\n",
    "\n",
    "# Function to retrieve top documents using PyTerrier (assuming you have a defined retrieval function)\n",
    "def retrieve_top_documents(keyword, retrieval_model, result_limit):\n",
    "    top_docs = retrieval_model.search(query=keyword).head(result_limit)  # Retrieve top based on result_limit\n",
    "    # Extract a list of docids\n",
    "    doc_ids = top_docs[\"docno\"].tolist()\n",
    "    return doc_ids  # Return the list of docids\n",
    "\n",
    "if __name__ == \"__main__\":\n",
    "    app.run_server(debug=True)\n"
   ]
  },
  {
   "cell_type": "code",
   "execution_count": null,
   "metadata": {},
   "outputs": [],
   "source": [
    "# http://127.0.0.1:8050/"
   ]
  }
 ],
 "metadata": {
  "kernelspec": {
   "display_name": "bingbusters",
   "language": "python",
   "name": "python3"
  },
  "language_info": {
   "codemirror_mode": {
    "name": "ipython",
    "version": 3
   },
   "file_extension": ".py",
   "mimetype": "text/x-python",
   "name": "python",
   "nbconvert_exporter": "python",
   "pygments_lexer": "ipython3",
   "version": "3.9.18"
  }
 },
 "nbformat": 4,
 "nbformat_minor": 2
}
